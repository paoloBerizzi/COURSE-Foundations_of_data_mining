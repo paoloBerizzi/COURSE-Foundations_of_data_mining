{
 "cells": [
  {
   "cell_type": "code",
   "execution_count": 2,
   "metadata": {},
   "outputs": [
    {
     "name": "stderr",
     "output_type": "stream",
     "text": [
      "Using TensorFlow backend.\n",
      "/Users/andreafavia/anaconda3/envs/dev/lib/python3.6/site-packages/tensorflow/python/framework/dtypes.py:516: FutureWarning: Passing (type, 1) or '1type' as a synonym of type is deprecated; in a future version of numpy, it will be understood as (type, (1,)) / '(1,)type'.\n",
      "  _np_qint8 = np.dtype([(\"qint8\", np.int8, 1)])\n",
      "/Users/andreafavia/anaconda3/envs/dev/lib/python3.6/site-packages/tensorflow/python/framework/dtypes.py:517: FutureWarning: Passing (type, 1) or '1type' as a synonym of type is deprecated; in a future version of numpy, it will be understood as (type, (1,)) / '(1,)type'.\n",
      "  _np_quint8 = np.dtype([(\"quint8\", np.uint8, 1)])\n",
      "/Users/andreafavia/anaconda3/envs/dev/lib/python3.6/site-packages/tensorflow/python/framework/dtypes.py:518: FutureWarning: Passing (type, 1) or '1type' as a synonym of type is deprecated; in a future version of numpy, it will be understood as (type, (1,)) / '(1,)type'.\n",
      "  _np_qint16 = np.dtype([(\"qint16\", np.int16, 1)])\n",
      "/Users/andreafavia/anaconda3/envs/dev/lib/python3.6/site-packages/tensorflow/python/framework/dtypes.py:519: FutureWarning: Passing (type, 1) or '1type' as a synonym of type is deprecated; in a future version of numpy, it will be understood as (type, (1,)) / '(1,)type'.\n",
      "  _np_quint16 = np.dtype([(\"quint16\", np.uint16, 1)])\n",
      "/Users/andreafavia/anaconda3/envs/dev/lib/python3.6/site-packages/tensorflow/python/framework/dtypes.py:520: FutureWarning: Passing (type, 1) or '1type' as a synonym of type is deprecated; in a future version of numpy, it will be understood as (type, (1,)) / '(1,)type'.\n",
      "  _np_qint32 = np.dtype([(\"qint32\", np.int32, 1)])\n",
      "/Users/andreafavia/anaconda3/envs/dev/lib/python3.6/site-packages/tensorflow/python/framework/dtypes.py:525: FutureWarning: Passing (type, 1) or '1type' as a synonym of type is deprecated; in a future version of numpy, it will be understood as (type, (1,)) / '(1,)type'.\n",
      "  np_resource = np.dtype([(\"resource\", np.ubyte, 1)])\n",
      "/Users/andreafavia/anaconda3/envs/dev/lib/python3.6/site-packages/tensorboard/compat/tensorflow_stub/dtypes.py:541: FutureWarning: Passing (type, 1) or '1type' as a synonym of type is deprecated; in a future version of numpy, it will be understood as (type, (1,)) / '(1,)type'.\n",
      "  _np_qint8 = np.dtype([(\"qint8\", np.int8, 1)])\n",
      "/Users/andreafavia/anaconda3/envs/dev/lib/python3.6/site-packages/tensorboard/compat/tensorflow_stub/dtypes.py:542: FutureWarning: Passing (type, 1) or '1type' as a synonym of type is deprecated; in a future version of numpy, it will be understood as (type, (1,)) / '(1,)type'.\n",
      "  _np_quint8 = np.dtype([(\"quint8\", np.uint8, 1)])\n",
      "/Users/andreafavia/anaconda3/envs/dev/lib/python3.6/site-packages/tensorboard/compat/tensorflow_stub/dtypes.py:543: FutureWarning: Passing (type, 1) or '1type' as a synonym of type is deprecated; in a future version of numpy, it will be understood as (type, (1,)) / '(1,)type'.\n",
      "  _np_qint16 = np.dtype([(\"qint16\", np.int16, 1)])\n",
      "/Users/andreafavia/anaconda3/envs/dev/lib/python3.6/site-packages/tensorboard/compat/tensorflow_stub/dtypes.py:544: FutureWarning: Passing (type, 1) or '1type' as a synonym of type is deprecated; in a future version of numpy, it will be understood as (type, (1,)) / '(1,)type'.\n",
      "  _np_quint16 = np.dtype([(\"quint16\", np.uint16, 1)])\n",
      "/Users/andreafavia/anaconda3/envs/dev/lib/python3.6/site-packages/tensorboard/compat/tensorflow_stub/dtypes.py:545: FutureWarning: Passing (type, 1) or '1type' as a synonym of type is deprecated; in a future version of numpy, it will be understood as (type, (1,)) / '(1,)type'.\n",
      "  _np_qint32 = np.dtype([(\"qint32\", np.int32, 1)])\n",
      "/Users/andreafavia/anaconda3/envs/dev/lib/python3.6/site-packages/tensorboard/compat/tensorflow_stub/dtypes.py:550: FutureWarning: Passing (type, 1) or '1type' as a synonym of type is deprecated; in a future version of numpy, it will be understood as (type, (1,)) / '(1,)type'.\n",
      "  np_resource = np.dtype([(\"resource\", np.ubyte, 1)])\n"
     ]
    }
   ],
   "source": [
    "import pandas as pd\n",
    "import numpy as np\n",
    "import keras\n"
   ]
  },
  {
   "cell_type": "code",
   "execution_count": 5,
   "metadata": {},
   "outputs": [],
   "source": [
    "from keras.layers import Dense\n",
    "from keras.models import Sequential"
   ]
  },
  {
   "cell_type": "code",
   "execution_count": 36,
   "metadata": {},
   "outputs": [],
   "source": [
    "from sklearn.preprocessing import Normalizer"
   ]
  },
  {
   "cell_type": "code",
   "execution_count": 74,
   "metadata": {},
   "outputs": [],
   "source": [
    "from keras.optimizers import SGD"
   ]
  },
  {
   "cell_type": "code",
   "execution_count": 10,
   "metadata": {},
   "outputs": [],
   "source": [
    "from keras.initializers import RandomNormal\n",
    "from keras.regularizers import l1\n",
    "from keras.losses import binary_crossentropy"
   ]
  },
  {
   "cell_type": "code",
   "execution_count": 7,
   "metadata": {},
   "outputs": [
    {
     "data": {
      "text/html": [
       "<div>\n",
       "<style scoped>\n",
       "    .dataframe tbody tr th:only-of-type {\n",
       "        vertical-align: middle;\n",
       "    }\n",
       "\n",
       "    .dataframe tbody tr th {\n",
       "        vertical-align: top;\n",
       "    }\n",
       "\n",
       "    .dataframe thead th {\n",
       "        text-align: right;\n",
       "    }\n",
       "</style>\n",
       "<table border=\"1\" class=\"dataframe\">\n",
       "  <thead>\n",
       "    <tr style=\"text-align: right;\">\n",
       "      <th></th>\n",
       "      <th>X_0</th>\n",
       "      <th>X_1</th>\n",
       "      <th>y</th>\n",
       "    </tr>\n",
       "  </thead>\n",
       "  <tbody>\n",
       "    <tr>\n",
       "      <td>0</td>\n",
       "      <td>2917.211242</td>\n",
       "      <td>3289.522533</td>\n",
       "      <td>0</td>\n",
       "    </tr>\n",
       "    <tr>\n",
       "      <td>1</td>\n",
       "      <td>1888.937716</td>\n",
       "      <td>781.528356</td>\n",
       "      <td>0</td>\n",
       "    </tr>\n",
       "    <tr>\n",
       "      <td>2</td>\n",
       "      <td>4188.521414</td>\n",
       "      <td>1554.476261</td>\n",
       "      <td>0</td>\n",
       "    </tr>\n",
       "    <tr>\n",
       "      <td>3</td>\n",
       "      <td>8145.555339</td>\n",
       "      <td>9804.066728</td>\n",
       "      <td>0</td>\n",
       "    </tr>\n",
       "    <tr>\n",
       "      <td>4</td>\n",
       "      <td>9584.488981</td>\n",
       "      <td>6176.337189</td>\n",
       "      <td>0</td>\n",
       "    </tr>\n",
       "  </tbody>\n",
       "</table>\n",
       "</div>"
      ],
      "text/plain": [
       "           X_0          X_1  y\n",
       "0  2917.211242  3289.522533  0\n",
       "1  1888.937716   781.528356  0\n",
       "2  4188.521414  1554.476261  0\n",
       "3  8145.555339  9804.066728  0\n",
       "4  9584.488981  6176.337189  0"
      ]
     },
     "execution_count": 7,
     "metadata": {},
     "output_type": "execute_result"
    }
   ],
   "source": [
    "df = pd.read_excel('HW3Atrain.xlsx')\n",
    "x_train = df.values[:,:-1]\n",
    "x_train = Normalizer().fit_transform(x_train)\n",
    "y_train = df.values[:,-1]\n"
   ]
  },
  {
   "cell_type": "code",
   "execution_count": 85,
   "metadata": {},
   "outputs": [],
   "source": [
    "model = Sequential()\n",
    "model.add(Dense(10,input_shape=(2,),activation='relu'))\n",
    "model.add(Dense(10,activation='relu'))\n",
    "#model.add(Dense(10,input_shape=(2,),activation='relu'))\n",
    "#model.add(Dense(10,activation='relu'))\n",
    "model.add(Dense(1,activation='sigmoid'))\n"
   ]
  },
  {
   "cell_type": "code",
   "execution_count": 86,
   "metadata": {},
   "outputs": [],
   "source": [
    "sgd = SGD(lr=0.03)"
   ]
  },
  {
   "cell_type": "code",
   "execution_count": 87,
   "metadata": {},
   "outputs": [
    {
     "name": "stdout",
     "output_type": "stream",
     "text": [
      "Epoch 1/100\n",
      "410/410 [==============================] - 1s 3ms/step - loss: 0.2499 - acc: 0.4634\n",
      "Epoch 2/100\n",
      "410/410 [==============================] - 0s 83us/step - loss: 0.2498 - acc: 0.6098\n",
      "Epoch 3/100\n",
      "410/410 [==============================] - 0s 62us/step - loss: 0.2498 - acc: 0.6683\n",
      "Epoch 4/100\n",
      "410/410 [==============================] - 0s 55us/step - loss: 0.2498 - acc: 0.6439\n",
      "Epoch 5/100\n",
      "410/410 [==============================] - 0s 62us/step - loss: 0.2498 - acc: 0.6585\n",
      "Epoch 6/100\n",
      "410/410 [==============================] - 0s 62us/step - loss: 0.2498 - acc: 0.5683\n",
      "Epoch 7/100\n",
      "410/410 [==============================] - 0s 61us/step - loss: 0.2497 - acc: 0.6683\n",
      "Epoch 8/100\n",
      "410/410 [==============================] - 0s 62us/step - loss: 0.2497 - acc: 0.5732\n",
      "Epoch 9/100\n",
      "410/410 [==============================] - 0s 62us/step - loss: 0.2497 - acc: 0.7390\n",
      "Epoch 10/100\n",
      "410/410 [==============================] - 0s 65us/step - loss: 0.2497 - acc: 0.7268\n",
      "Epoch 11/100\n",
      "410/410 [==============================] - 0s 59us/step - loss: 0.2497 - acc: 0.6927\n",
      "Epoch 12/100\n",
      "410/410 [==============================] - 0s 62us/step - loss: 0.2497 - acc: 0.6634\n",
      "Epoch 13/100\n",
      "410/410 [==============================] - 0s 62us/step - loss: 0.2497 - acc: 0.6195\n",
      "Epoch 14/100\n",
      "410/410 [==============================] - 0s 62us/step - loss: 0.2497 - acc: 0.6146\n",
      "Epoch 15/100\n",
      "410/410 [==============================] - 0s 64us/step - loss: 0.2497 - acc: 0.7463\n",
      "Epoch 16/100\n",
      "410/410 [==============================] - 0s 56us/step - loss: 0.2497 - acc: 0.7146\n",
      "Epoch 17/100\n",
      "410/410 [==============================] - 0s 61us/step - loss: 0.2497 - acc: 0.6878\n",
      "Epoch 18/100\n",
      "410/410 [==============================] - 0s 61us/step - loss: 0.2497 - acc: 0.6585\n",
      "Epoch 19/100\n",
      "410/410 [==============================] - 0s 62us/step - loss: 0.2497 - acc: 0.7366\n",
      "Epoch 20/100\n",
      "410/410 [==============================] - 0s 56us/step - loss: 0.2497 - acc: 0.7390\n",
      "Epoch 21/100\n",
      "410/410 [==============================] - 0s 61us/step - loss: 0.2496 - acc: 0.7049\n",
      "Epoch 22/100\n",
      "410/410 [==============================] - 0s 67us/step - loss: 0.2496 - acc: 0.6951\n",
      "Epoch 23/100\n",
      "410/410 [==============================] - 0s 58us/step - loss: 0.2497 - acc: 0.7244\n",
      "Epoch 24/100\n",
      "410/410 [==============================] - 0s 66us/step - loss: 0.2497 - acc: 0.7195\n",
      "Epoch 25/100\n",
      "410/410 [==============================] - 0s 61us/step - loss: 0.2496 - acc: 0.7634\n",
      "Epoch 26/100\n",
      "410/410 [==============================] - 0s 68us/step - loss: 0.2496 - acc: 0.7268\n",
      "Epoch 27/100\n",
      "410/410 [==============================] - 0s 68us/step - loss: 0.2496 - acc: 0.7244\n",
      "Epoch 28/100\n",
      "410/410 [==============================] - 0s 67us/step - loss: 0.2496 - acc: 0.7561\n",
      "Epoch 29/100\n",
      "410/410 [==============================] - 0s 61us/step - loss: 0.2496 - acc: 0.6341\n",
      "Epoch 30/100\n",
      "410/410 [==============================] - 0s 62us/step - loss: 0.2496 - acc: 0.7463\n",
      "Epoch 31/100\n",
      "410/410 [==============================] - 0s 64us/step - loss: 0.2496 - acc: 0.5756\n",
      "Epoch 32/100\n",
      "410/410 [==============================] - 0s 70us/step - loss: 0.2496 - acc: 0.7171\n",
      "Epoch 33/100\n",
      "410/410 [==============================] - 0s 61us/step - loss: 0.2496 - acc: 0.7341\n",
      "Epoch 34/100\n",
      "410/410 [==============================] - 0s 64us/step - loss: 0.2496 - acc: 0.7195\n",
      "Epoch 35/100\n",
      "410/410 [==============================] - 0s 64us/step - loss: 0.2496 - acc: 0.7537\n",
      "Epoch 36/100\n",
      "410/410 [==============================] - 0s 70us/step - loss: 0.2496 - acc: 0.5927\n",
      "Epoch 37/100\n",
      "410/410 [==============================] - 0s 70us/step - loss: 0.2496 - acc: 0.6683\n",
      "Epoch 38/100\n",
      "410/410 [==============================] - 0s 79us/step - loss: 0.2496 - acc: 0.6390\n",
      "Epoch 39/100\n",
      "410/410 [==============================] - 0s 70us/step - loss: 0.2495 - acc: 0.6317\n",
      "Epoch 40/100\n",
      "410/410 [==============================] - 0s 65us/step - loss: 0.2495 - acc: 0.7049\n",
      "Epoch 41/100\n",
      "410/410 [==============================] - 0s 69us/step - loss: 0.2495 - acc: 0.7366\n",
      "Epoch 42/100\n",
      "410/410 [==============================] - 0s 64us/step - loss: 0.2495 - acc: 0.7439\n",
      "Epoch 43/100\n",
      "410/410 [==============================] - 0s 65us/step - loss: 0.2495 - acc: 0.7415\n",
      "Epoch 44/100\n",
      "410/410 [==============================] - 0s 61us/step - loss: 0.2496 - acc: 0.6854\n",
      "Epoch 45/100\n",
      "410/410 [==============================] - 0s 62us/step - loss: 0.2495 - acc: 0.7341\n",
      "Epoch 46/100\n",
      "410/410 [==============================] - 0s 75us/step - loss: 0.2495 - acc: 0.6683\n",
      "Epoch 47/100\n",
      "410/410 [==============================] - 0s 55us/step - loss: 0.2495 - acc: 0.6829\n",
      "Epoch 48/100\n",
      "410/410 [==============================] - 0s 57us/step - loss: 0.2495 - acc: 0.7707\n",
      "Epoch 49/100\n",
      "410/410 [==============================] - 0s 55us/step - loss: 0.2495 - acc: 0.6195\n",
      "Epoch 50/100\n",
      "410/410 [==============================] - 0s 57us/step - loss: 0.2495 - acc: 0.7293\n",
      "Epoch 51/100\n",
      "410/410 [==============================] - 0s 47us/step - loss: 0.2495 - acc: 0.7268\n",
      "Epoch 52/100\n",
      "410/410 [==============================] - 0s 57us/step - loss: 0.2495 - acc: 0.7098\n",
      "Epoch 53/100\n",
      "410/410 [==============================] - 0s 71us/step - loss: 0.2495 - acc: 0.7732\n",
      "Epoch 54/100\n",
      "410/410 [==============================] - 0s 69us/step - loss: 0.2495 - acc: 0.6976\n",
      "Epoch 55/100\n",
      "410/410 [==============================] - 0s 65us/step - loss: 0.2495 - acc: 0.6634\n",
      "Epoch 56/100\n",
      "410/410 [==============================] - 0s 65us/step - loss: 0.2495 - acc: 0.7390\n",
      "Epoch 57/100\n",
      "410/410 [==============================] - 0s 75us/step - loss: 0.2495 - acc: 0.6951\n",
      "Epoch 58/100\n",
      "410/410 [==============================] - 0s 80us/step - loss: 0.2494 - acc: 0.6756\n",
      "Epoch 59/100\n",
      "410/410 [==============================] - 0s 84us/step - loss: 0.2494 - acc: 0.7073\n",
      "Epoch 60/100\n",
      "410/410 [==============================] - 0s 88us/step - loss: 0.2494 - acc: 0.7073\n",
      "Epoch 61/100\n",
      "410/410 [==============================] - 0s 126us/step - loss: 0.2494 - acc: 0.7195\n",
      "Epoch 62/100\n",
      "410/410 [==============================] - 0s 91us/step - loss: 0.2494 - acc: 0.7902\n",
      "Epoch 63/100\n",
      "410/410 [==============================] - 0s 88us/step - loss: 0.2494 - acc: 0.7293\n",
      "Epoch 64/100\n",
      "410/410 [==============================] - 0s 88us/step - loss: 0.2494 - acc: 0.7220\n",
      "Epoch 65/100\n",
      "410/410 [==============================] - 0s 83us/step - loss: 0.2494 - acc: 0.7244\n",
      "Epoch 66/100\n",
      "410/410 [==============================] - 0s 86us/step - loss: 0.2494 - acc: 0.7585\n",
      "Epoch 67/100\n",
      "410/410 [==============================] - 0s 85us/step - loss: 0.2494 - acc: 0.7000\n",
      "Epoch 68/100\n",
      "410/410 [==============================] - 0s 82us/step - loss: 0.2494 - acc: 0.7268\n",
      "Epoch 69/100\n",
      "410/410 [==============================] - 0s 98us/step - loss: 0.2494 - acc: 0.7073\n",
      "Epoch 70/100\n",
      "410/410 [==============================] - 0s 81us/step - loss: 0.2494 - acc: 0.7537\n",
      "Epoch 71/100\n",
      "410/410 [==============================] - 0s 66us/step - loss: 0.2494 - acc: 0.6854\n",
      "Epoch 72/100\n",
      "410/410 [==============================] - 0s 74us/step - loss: 0.2494 - acc: 0.7171\n",
      "Epoch 73/100\n",
      "410/410 [==============================] - 0s 82us/step - loss: 0.2494 - acc: 0.7756\n",
      "Epoch 74/100\n",
      "410/410 [==============================] - 0s 88us/step - loss: 0.2494 - acc: 0.7415\n",
      "Epoch 75/100\n",
      "410/410 [==============================] - 0s 89us/step - loss: 0.2493 - acc: 0.7488\n",
      "Epoch 76/100\n",
      "410/410 [==============================] - 0s 95us/step - loss: 0.2494 - acc: 0.6756\n",
      "Epoch 77/100\n",
      "410/410 [==============================] - 0s 89us/step - loss: 0.2493 - acc: 0.7537\n",
      "Epoch 78/100\n",
      "410/410 [==============================] - 0s 85us/step - loss: 0.2493 - acc: 0.7220\n",
      "Epoch 79/100\n",
      "410/410 [==============================] - 0s 104us/step - loss: 0.2493 - acc: 0.7439\n",
      "Epoch 80/100\n",
      "410/410 [==============================] - 0s 96us/step - loss: 0.2493 - acc: 0.7098\n",
      "Epoch 81/100\n",
      "410/410 [==============================] - 0s 104us/step - loss: 0.2493 - acc: 0.6829\n",
      "Epoch 82/100\n",
      "410/410 [==============================] - 0s 104us/step - loss: 0.2493 - acc: 0.7610\n",
      "Epoch 83/100\n",
      "410/410 [==============================] - 0s 102us/step - loss: 0.2493 - acc: 0.7854\n",
      "Epoch 84/100\n",
      "410/410 [==============================] - 0s 89us/step - loss: 0.2493 - acc: 0.7366\n",
      "Epoch 85/100\n",
      "410/410 [==============================] - 0s 87us/step - loss: 0.2493 - acc: 0.7683\n",
      "Epoch 86/100\n",
      "410/410 [==============================] - 0s 91us/step - loss: 0.2493 - acc: 0.7561\n",
      "Epoch 87/100\n",
      "410/410 [==============================] - 0s 92us/step - loss: 0.2493 - acc: 0.7561\n",
      "Epoch 88/100\n",
      "410/410 [==============================] - 0s 80us/step - loss: 0.2493 - acc: 0.7610\n",
      "Epoch 89/100\n",
      "410/410 [==============================] - 0s 69us/step - loss: 0.2493 - acc: 0.7512\n",
      "Epoch 90/100\n",
      "410/410 [==============================] - 0s 61us/step - loss: 0.2492 - acc: 0.7756\n",
      "Epoch 91/100\n",
      "410/410 [==============================] - 0s 71us/step - loss: 0.2492 - acc: 0.7488\n",
      "Epoch 92/100\n",
      "410/410 [==============================] - 0s 68us/step - loss: 0.2493 - acc: 0.7439\n",
      "Epoch 93/100\n",
      "410/410 [==============================] - 0s 183us/step - loss: 0.2492 - acc: 0.7366\n",
      "Epoch 94/100\n",
      "410/410 [==============================] - 0s 171us/step - loss: 0.2492 - acc: 0.7366\n",
      "Epoch 95/100\n",
      "410/410 [==============================] - 0s 67us/step - loss: 0.2492 - acc: 0.7098\n",
      "Epoch 96/100\n",
      "410/410 [==============================] - 0s 74us/step - loss: 0.2492 - acc: 0.7756\n",
      "Epoch 97/100\n",
      "410/410 [==============================] - 0s 74us/step - loss: 0.2492 - acc: 0.7390\n",
      "Epoch 98/100\n",
      "410/410 [==============================] - 0s 74us/step - loss: 0.2492 - acc: 0.7463\n",
      "Epoch 99/100\n",
      "410/410 [==============================] - 0s 97us/step - loss: 0.2492 - acc: 0.7293\n",
      "Epoch 100/100\n",
      "410/410 [==============================] - 0s 79us/step - loss: 0.2492 - acc: 0.7512\n"
     ]
    },
    {
     "data": {
      "text/plain": [
       "<keras.callbacks.History at 0x1a482c5f98>"
      ]
     },
     "execution_count": 87,
     "metadata": {},
     "output_type": "execute_result"
    }
   ],
   "source": [
    "x_train = df.values[:,:-1]\n",
    "x_train = Normalizer().fit_transform(x_train)\n",
    "y_train = df.values[:,-1]\n",
    "model.compile(optimizer=sgd,loss='mse',metrics=['accuracy'])\n",
    "model.fit(x_train,y_train,batch_size=32,epochs=100)\n"
   ]
  },
  {
   "cell_type": "code",
   "execution_count": 84,
   "metadata": {},
   "outputs": [
    {
     "data": {
      "text/plain": [
       "<module 'keras.optimizers' from '/Users/andreafavia/anaconda3/envs/dev/lib/python3.6/site-packages/keras/optimizers.py'>"
      ]
     },
     "execution_count": 84,
     "metadata": {},
     "output_type": "execute_result"
    }
   ],
   "source": []
  },
  {
   "cell_type": "code",
   "execution_count": null,
   "metadata": {},
   "outputs": [],
   "source": [
    "from sklearn.model_selection import GridSearchCV\n",
    "\n",
    "param_grid = {'optimizer':['adam',sgd,'rmsprop'],\n",
    "              'loss':['mse','binary_crossentropy']\n",
    "             }"
   ]
  },
  {
   "cell_type": "code",
   "execution_count": 53,
   "metadata": {},
   "outputs": [
    {
     "name": "stdout",
     "output_type": "stream",
     "text": [
      "_________________________________________________________________\n",
      "Layer (type)                 Output Shape              Param #   \n",
      "=================================================================\n",
      "dense_24 (Dense)             (None, 10)                30        \n",
      "_________________________________________________________________\n",
      "dense_25 (Dense)             (None, 10)                110       \n",
      "_________________________________________________________________\n",
      "dense_26 (Dense)             (None, 2)                 22        \n",
      "=================================================================\n",
      "Total params: 162\n",
      "Trainable params: 162\n",
      "Non-trainable params: 0\n",
      "_________________________________________________________________\n"
     ]
    }
   ],
   "source": [
    "model.summary()"
   ]
  },
  {
   "cell_type": "code",
   "execution_count": 59,
   "metadata": {},
   "outputs": [],
   "source": [
    "from sklearn.metrics import accuracy_score"
   ]
  },
  {
   "cell_type": "code",
   "execution_count": 63,
   "metadata": {},
   "outputs": [
    {
     "data": {
      "text/plain": [
       "0.7073170731707317"
      ]
     },
     "execution_count": 63,
     "metadata": {},
     "output_type": "execute_result"
    }
   ],
   "source": [
    "test = pd.read_excel('HW3Avalidate.xlsx').values\n",
    "x_test = test[:,:-1]\n",
    "y_test = test[:,-1]\n",
    "predictions = model.predict(x_test)\n",
    "accuracy_score(y_test,predictions)"
   ]
  },
  {
   "cell_type": "code",
   "execution_count": 64,
   "metadata": {},
   "outputs": [
    {
     "data": {
      "text/plain": [
       "array([[0.],\n",
       "       [0.],\n",
       "       [1.],\n",
       "       [0.],\n",
       "       [1.],\n",
       "       [1.],\n",
       "       [1.],\n",
       "       [1.],\n",
       "       [0.],\n",
       "       [0.],\n",
       "       [1.],\n",
       "       [0.],\n",
       "       [0.],\n",
       "       [1.],\n",
       "       [1.],\n",
       "       [1.],\n",
       "       [1.],\n",
       "       [1.],\n",
       "       [0.],\n",
       "       [0.],\n",
       "       [1.],\n",
       "       [0.],\n",
       "       [1.],\n",
       "       [0.],\n",
       "       [0.],\n",
       "       [1.],\n",
       "       [0.],\n",
       "       [0.],\n",
       "       [1.],\n",
       "       [0.],\n",
       "       [0.],\n",
       "       [0.],\n",
       "       [0.],\n",
       "       [1.],\n",
       "       [1.],\n",
       "       [0.],\n",
       "       [0.],\n",
       "       [1.],\n",
       "       [0.],\n",
       "       [0.],\n",
       "       [0.],\n",
       "       [0.],\n",
       "       [0.],\n",
       "       [1.],\n",
       "       [0.],\n",
       "       [0.],\n",
       "       [0.],\n",
       "       [0.],\n",
       "       [1.],\n",
       "       [1.],\n",
       "       [0.],\n",
       "       [0.],\n",
       "       [1.],\n",
       "       [1.],\n",
       "       [0.],\n",
       "       [1.],\n",
       "       [1.],\n",
       "       [0.],\n",
       "       [1.],\n",
       "       [1.],\n",
       "       [0.],\n",
       "       [0.],\n",
       "       [1.],\n",
       "       [0.],\n",
       "       [1.],\n",
       "       [0.],\n",
       "       [0.],\n",
       "       [1.],\n",
       "       [1.],\n",
       "       [0.],\n",
       "       [0.],\n",
       "       [1.],\n",
       "       [0.],\n",
       "       [1.],\n",
       "       [0.],\n",
       "       [0.],\n",
       "       [1.],\n",
       "       [0.],\n",
       "       [0.],\n",
       "       [0.],\n",
       "       [1.],\n",
       "       [0.]], dtype=float32)"
      ]
     },
     "execution_count": 64,
     "metadata": {},
     "output_type": "execute_result"
    }
   ],
   "source": [
    "predictions\n"
   ]
  },
  {
   "cell_type": "markdown",
   "metadata": {},
   "source": [
    "model.summary\n"
   ]
  }
 ],
 "metadata": {
  "kernelspec": {
   "display_name": "Python 3",
   "language": "python",
   "name": "python3"
  },
  "language_info": {
   "codemirror_mode": {
    "name": "ipython",
    "version": 3
   },
   "file_extension": ".py",
   "mimetype": "text/x-python",
   "name": "python",
   "nbconvert_exporter": "python",
   "pygments_lexer": "ipython3",
   "version": "3.6.9"
  }
 },
 "nbformat": 4,
 "nbformat_minor": 4
}
